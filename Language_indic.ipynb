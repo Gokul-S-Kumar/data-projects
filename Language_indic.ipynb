{
 "cells": [
  {
   "cell_type": "markdown",
   "metadata": {},
   "source": [
    "## Imports\n",
    "- gokul\n",
    "_gokul_\n"
   ]
  },
  {
   "cell_type": "code",
   "execution_count": 3,
   "metadata": {},
   "outputs": [],
   "source": [
    "import tensorflow as tf\n",
    "from tensorflow import keras\n",
    "from tensorflow.keras import layers\n",
    "import numpy as np\n",
    "import pickle\n",
    "from sklearn import model_selection"
   ]
  },
  {
   "cell_type": "code",
   "execution_count": 4,
   "metadata": {},
   "outputs": [],
   "source": [
    "featureset = pickle.load(open('sentiment_set.pickle', 'rb'))"
   ]
  },
  {
   "cell_type": "code",
   "execution_count": 5,
   "metadata": {},
   "outputs": [],
   "source": [
    "featureset = np.array(featureset)"
   ]
  },
  {
   "cell_type": "code",
   "execution_count": 6,
   "metadata": {},
   "outputs": [],
   "source": [
    "x = np.array(list(featureset[:,0]))\n",
    "y = np.array(list(featureset[:,1]))"
   ]
  },
  {
   "cell_type": "code",
   "execution_count": 7,
   "metadata": {},
   "outputs": [],
   "source": [
    "x_train, x_test, y_train, y_test = model_selection.train_test_split(x, y, test_size = 0.33)"
   ]
  },
  {
   "cell_type": "code",
   "execution_count": 28,
   "metadata": {},
   "outputs": [],
   "source": [
    "num_classes = 2\n",
    "input_shape = (423, 1)"
   ]
  },
  {
   "cell_type": "code",
   "execution_count": 9,
   "metadata": {},
   "outputs": [],
   "source": [
    "x_train = np.expand_dims(x_train, -1)\n",
    "x_test = np.expand_dims(x_test, -1)"
   ]
  },
  {
   "cell_type": "code",
   "execution_count": 33,
   "metadata": {},
   "outputs": [
    {
     "name": "stdout",
     "output_type": "stream",
     "text": [
      "(7143, 423, 1) (7143, 2)\n"
     ]
    },
    {
     "data": {
      "text/plain": [
       "array([[0, 1],\n",
       "       [1, 0],\n",
       "       [0, 1],\n",
       "       ...,\n",
       "       [1, 0],\n",
       "       [1, 0],\n",
       "       [1, 0]])"
      ]
     },
     "execution_count": 33,
     "metadata": {},
     "output_type": "execute_result"
    }
   ],
   "source": [
    "print(x_train.shape, y_train.shape)\n",
    "y_train"
   ]
  },
  {
   "cell_type": "code",
   "execution_count": 43,
   "metadata": {},
   "outputs": [],
   "source": [
    "model = keras.Sequential(\n",
    "                        [\n",
    "                            layers.Input(shape = input_shape ),\n",
    "                            layers.Dense(500, activation = 'relu'),\n",
    "                            layers.Dense(500, activation = 'relu'),\n",
    "                            layers.Dense(500, activation = 'relu'),\n",
    "                            layers.Flatten(),\n",
    "                            layers.Dense(num_classes, activation = 'softmax')\n",
    "                        ]\n",
    "                        )"
   ]
  },
  {
   "cell_type": "code",
   "execution_count": 44,
   "metadata": {},
   "outputs": [
    {
     "name": "stdout",
     "output_type": "stream",
     "text": [
      "Model: \"sequential_11\"\n",
      "_________________________________________________________________\n",
      "Layer (type)                 Output Shape              Param #   \n",
      "=================================================================\n",
      "dense_43 (Dense)             (None, 423, 500)          1000      \n",
      "_________________________________________________________________\n",
      "dense_44 (Dense)             (None, 423, 500)          250500    \n",
      "_________________________________________________________________\n",
      "dense_45 (Dense)             (None, 423, 500)          250500    \n",
      "_________________________________________________________________\n",
      "flatten (Flatten)            (None, 211500)            0         \n",
      "_________________________________________________________________\n",
      "dense_46 (Dense)             (None, 2)                 423002    \n",
      "=================================================================\n",
      "Total params: 925,002\n",
      "Trainable params: 925,002\n",
      "Non-trainable params: 0\n",
      "_________________________________________________________________\n"
     ]
    }
   ],
   "source": [
    "model.summary()"
   ]
  },
  {
   "cell_type": "code",
   "execution_count": 45,
   "metadata": {},
   "outputs": [
    {
     "name": "stdout",
     "output_type": "stream",
     "text": [
      "Epoch 1/10\n",
      "51/51 [==============================] - 104s 2s/step - loss: 0.6350 - accuracy: 0.6420 - val_loss: 0.6179 - val_accuracy: 0.6545\n",
      "Epoch 2/10\n",
      "51/51 [==============================] - 106s 2s/step - loss: 0.5780 - accuracy: 0.6977 - val_loss: 0.6258 - val_accuracy: 0.6490\n",
      "Epoch 3/10\n",
      "51/51 [==============================] - 109s 2s/step - loss: 0.5710 - accuracy: 0.7089 - val_loss: 0.6264 - val_accuracy: 0.6322\n",
      "Epoch 4/10\n",
      "51/51 [==============================] - 106s 2s/step - loss: 0.5694 - accuracy: 0.7005 - val_loss: 0.6238 - val_accuracy: 0.6406\n",
      "Epoch 5/10\n",
      "51/51 [==============================] - 113s 2s/step - loss: 0.5671 - accuracy: 0.7094 - val_loss: 0.6454 - val_accuracy: 0.6448\n",
      "Epoch 6/10\n",
      "51/51 [==============================] - 115s 2s/step - loss: 0.5631 - accuracy: 0.7064 - val_loss: 0.6208 - val_accuracy: 0.6336\n",
      "Epoch 7/10\n",
      "51/51 [==============================] - 112s 2s/step - loss: 0.5605 - accuracy: 0.7075 - val_loss: 0.6196 - val_accuracy: 0.6378\n",
      "Epoch 8/10\n",
      "51/51 [==============================] - 112s 2s/step - loss: 0.5607 - accuracy: 0.7111 - val_loss: 0.6205 - val_accuracy: 0.6406\n",
      "Epoch 9/10\n",
      "51/51 [==============================] - 111s 2s/step - loss: 0.5599 - accuracy: 0.7159 - val_loss: 0.6289 - val_accuracy: 0.6336\n",
      "Epoch 10/10\n",
      "51/51 [==============================] - 111s 2s/step - loss: 0.5583 - accuracy: 0.7127 - val_loss: 0.6195 - val_accuracy: 0.6434\n"
     ]
    },
    {
     "data": {
      "text/plain": [
       "<tensorflow.python.keras.callbacks.History at 0x7fa7c492fd00>"
      ]
     },
     "execution_count": 45,
     "metadata": {},
     "output_type": "execute_result"
    }
   ],
   "source": [
    "batch_size = 128\n",
    "epochs = 10\n",
    "model.compile(loss = 'binary_crossentropy', optimizer = 'adam', metrics = ['accuracy'])\n",
    "model.fit(x_train, y_train, batch_size = batch_size, epochs = epochs, validation_split = 0.1)"
   ]
  }
 ],
 "metadata": {
  "kernelspec": {
   "display_name": "Python 3",
   "language": "python",
   "name": "python3"
  },
  "language_info": {
   "codemirror_mode": {
    "name": "ipython",
    "version": 3
   },
   "file_extension": ".py",
   "mimetype": "text/x-python",
   "name": "python",
   "nbconvert_exporter": "python",
   "pygments_lexer": "ipython3",
   "version": "3.8.2"
  }
 },
 "nbformat": 4,
 "nbformat_minor": 4
}
